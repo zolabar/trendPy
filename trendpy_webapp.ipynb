{
 "cells": [
  {
   "cell_type": "code",
   "execution_count": 1,
   "id": "d989ff8b",
   "metadata": {},
   "outputs": [],
   "source": [
    "from trendpy2.webApp import App\n"
   ]
  },
  {
   "cell_type": "code",
   "execution_count": 2,
   "id": "1099f75e",
   "metadata": {},
   "outputs": [
    {
     "data": {
      "application/vnd.jupyter.widget-view+json": {
       "model_id": "2d8ab5834efd47dfb6a5ff8ca226284b",
       "version_major": 2,
       "version_minor": 0
      },
      "text/plain": [
       "HBox(children=(HTML(value='<img src=\"figures/logo.jpg\" width=\"60\" height=\"100\" alt=\"TrendPy logo\"></img>'), HT…"
      ]
     },
     "metadata": {},
     "output_type": "display_data"
    },
    {
     "data": {
      "application/vnd.jupyter.widget-view+json": {
       "model_id": "852fbf2e66a54168af1b4de79162aeee",
       "version_major": 2,
       "version_minor": 0
      },
      "text/plain": [
       "HTML(value='<h3 align=\"center\">Upload a .csv file here<h3>')"
      ]
     },
     "metadata": {},
     "output_type": "display_data"
    },
    {
     "data": {
      "application/vnd.jupyter.widget-view+json": {
       "model_id": "ad2b93ed73f848599db5656069123251",
       "version_major": 2,
       "version_minor": 0
      },
      "text/plain": [
       "HBox(children=(FileUpload(value=(), accept='.csv', description='Upload'),), layout=Layout(display='flex', just…"
      ]
     },
     "metadata": {},
     "output_type": "display_data"
    },
    {
     "data": {
      "application/vnd.jupyter.widget-view+json": {
       "model_id": "f021b73e989a44b4869cd8c7e9d7561e",
       "version_major": 2,
       "version_minor": 0
      },
      "text/plain": [
       "HBox(children=(LoadedButton(description='Start calculation', icon='check', style=ButtonStyle(), tooltip='Click…"
      ]
     },
     "metadata": {},
     "output_type": "display_data"
    },
    {
     "data": {
      "application/vnd.jupyter.widget-view+json": {
       "model_id": "d1a7098eca5d4d2fbe50ce5d04038b3c",
       "version_major": 2,
       "version_minor": 0
      },
      "text/plain": [
       "HBox(children=(Output(),), layout=Layout(display='flex', justify_content='center'))"
      ]
     },
     "metadata": {},
     "output_type": "display_data"
    },
    {
     "data": {
      "application/vnd.jupyter.widget-view+json": {
       "model_id": "c3146a724204418b87eb09fa73564270",
       "version_major": 2,
       "version_minor": 0
      },
      "text/plain": [
       "HBox(children=(Dropdown(description='Input (X):', options=('',), value=''), Dropdown(description='Target (Y):'…"
      ]
     },
     "metadata": {},
     "output_type": "display_data"
    },
    {
     "data": {
      "application/vnd.jupyter.widget-view+json": {
       "model_id": "9e418a0e519843b099a2e32014b0d8fa",
       "version_major": 2,
       "version_minor": 0
      },
      "text/plain": [
       "HBox(children=(Dropdown(description='trendline:', options=('No trendline', 'linear', 'polynomial', 'trigonomet…"
      ]
     },
     "metadata": {},
     "output_type": "display_data"
    },
    {
     "data": {
      "application/vnd.jupyter.widget-view+json": {
       "model_id": "65e2b9da6adc4905bddbbeda16dc6964",
       "version_major": 2,
       "version_minor": 0
      },
      "text/plain": [
       "HBox(children=(Checkbox(value=False, description='Show R2 score'),), layout=Layout(display='flex', justify_con…"
      ]
     },
     "metadata": {},
     "output_type": "display_data"
    },
    {
     "data": {
      "application/vnd.jupyter.widget-view+json": {
       "model_id": "f72a4dcc1d9842f58c2617ff8d4710e8",
       "version_major": 2,
       "version_minor": 0
      },
      "text/plain": [
       "HBox(children=(Output(),), layout=Layout(display='flex', justify_content='center'))"
      ]
     },
     "metadata": {},
     "output_type": "display_data"
    },
    {
     "data": {
      "application/vnd.jupyter.widget-view+json": {
       "model_id": "1515dbd1c1c9406385361f651b27d1e9",
       "version_major": 2,
       "version_minor": 0
      },
      "text/plain": [
       "FigureWidget({\n",
       "    'data': [{'mode': 'markers', 'name': 'datapoints', 'type': 'scatter', 'uid': 'dfc61a75-91d6-41a3-b579-8a161806237c'},\n",
       "             {'line': {'shape': 'spline'},\n",
       "              'mode': 'lines',\n",
       "              'name': 'trendline',\n",
       "              'type': 'scatter',\n",
       "              'uid': '641130c7-b9c5-415c-8c6a-995e05548dee'}],\n",
       "    'layout': {'height': 400,\n",
       "               'margin': {'b': 25, 'l': 120, 'r': 120, 't': 25},\n",
       "               'template': '...',\n",
       "               'title': {'text': 'Time Series Regression'}}\n",
       "})"
      ]
     },
     "metadata": {},
     "output_type": "display_data"
    }
   ],
   "source": [
    "a = App()\n",
    "\n",
    "a.show()\n"
   ]
  },
  {
   "cell_type": "markdown",
   "id": "f6be73d2",
   "metadata": {},
   "source": [
    "**Note:** If a manual trend is selected, then a 3 parameters expression is expected: e.g. ```a*x**2+b*x+c```"
   ]
  },
  {
   "cell_type": "code",
   "execution_count": null,
   "id": "ab9fbabf",
   "metadata": {},
   "outputs": [],
   "source": []
  }
 ],
 "metadata": {
  "kernelspec": {
   "display_name": "Python 3 (ipykernel)",
   "language": "python",
   "name": "python3"
  },
  "language_info": {
   "codemirror_mode": {
    "name": "ipython",
    "version": 3
   },
   "file_extension": ".py",
   "mimetype": "text/x-python",
   "name": "python",
   "nbconvert_exporter": "python",
   "pygments_lexer": "ipython3",
   "version": "3.11.5"
  }
 },
 "nbformat": 4,
 "nbformat_minor": 5
}
